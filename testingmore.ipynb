{
 "cells": [
  {
   "cell_type": "code",
   "execution_count": 5,
   "metadata": {},
   "outputs": [],
   "source": [
    "%matplotlib inline"
   ]
  },
  {
   "cell_type": "code",
   "execution_count": 6,
   "metadata": {},
   "outputs": [],
   "source": [
    "import numpy as np\n",
    "import pylab as py\n",
    "import matplotlib.pyplot as plt\n",
    "import math\n",
    "import threading\n",
    "import scipy\n",
    "\n",
    "\n",
    "from scipy import constants\n",
    "from scipy import interpolate\n",
    "from scipy import integrate"
   ]
  },
  {
   "cell_type": "code",
   "execution_count": 7,
   "metadata": {},
   "outputs": [],
   "source": [
    "from scipy.integrate import odeint,quad,dblquad,simps,quad_vec,nquad\n",
    "import sympy\n",
    "from scipy import fftpack"
   ]
  },
  {
   "cell_type": "code",
   "execution_count": 8,
   "metadata": {},
   "outputs": [],
   "source": [
    "def cft(g, f):\n",
    "    \"\"\"Numerically evaluate the Fourier Transform of g for the given frequencies\"\"\"    \n",
    "    result = np.zeros(len(f), dtype=complex)\n",
    "    \n",
    "    # Loop over all frequencies and calculate integral value\n",
    "    for i, ff in enumerate(f):\n",
    "        # Evaluate the Fourier Integral for a single frequency ff, \n",
    "        # assuming the function is time-limited to abs(t)<5\n",
    "        result[i] = complex_quad(lambda t: g(t)*np.exp(-2j*np.pi*ff*t), -5, 5)\n",
    "    return result"
   ]
  },
  {
   "cell_type": "code",
   "execution_count": 9,
   "metadata": {},
   "outputs": [],
   "source": [
    "def complex_quad(g, a, b):\n",
    "    \"\"\"Return definite integral of complex-valued g from a to b, \n",
    "    using Simpson's rule\"\"\"\n",
    "    # 2501: Amount of used samples for the trapezoidal rule\n",
    "    t = np.linspace(a, b, 2501)  \n",
    "    x = g(t)\n",
    "    return integrate.simps(y=x, x=t)"
   ]
  },
  {
   "cell_type": "code",
   "execution_count": 10,
   "metadata": {},
   "outputs": [
    {
     "data": {
      "text/plain": [
       "(-2.0, 2.0)"
      ]
     },
     "execution_count": 10,
     "metadata": {},
     "output_type": "execute_result"
    },
    {
     "data": {
      "image/png": "[encoded data removed]",
      "text/plain": [
       "<matplotlib.figure.Figure at 0x7fbb9323c3c8>"
      ]
     },
     "metadata": {
      "needs_background": "light"
     },
     "output_type": "display_data"
    }
   ],
   "source": [
    "def rect(t):\n",
    "    return (np.sin(t)).astype(float)\n",
    "\n",
    "t = np.linspace(-5,5, 1000)\n",
    "\n",
    "plt.subplot(121)\n",
    "plt.plot(t, rect(t))\n",
    "\n",
    "f = np.linspace(-5, 5, 1000)\n",
    "R = cft(rect, f)  # Calculate the numeric Fourier Transform of the rect function\n",
    "\n",
    "plt.subplot(122)\n",
    "plt.plot(f, R.real, 'r-', lw=2, label='Numeric real')\n",
    "plt.plot(f, R.imag, 'r--', label='Numeric imag')\n",
    "plt.xlim(-2.,2.)"
   ]
  },
  {
   "cell_type": "code",
   "execution_count": 33,
   "metadata": {},
   "outputs": [
    {
     "name": "stdout",
     "output_type": "stream",
     "text": [
      "[-2. -1.  0.  1.]\n",
      "[[-2. -1.  0.  1.]\n",
      " [-2. -1.  0.  1.]\n",
      " [-2. -1.  0.  1.]\n",
      " [-2. -1.  0.  1.]]\n"
     ]
    }
   ],
   "source": [
    "# N = int(4/1)\n",
    "# # dx = 0.000625\n",
    "\n",
    "# x = np.linspace(-N/2,N/2-1,N)\n",
    "# y = x.T\n",
    "\n",
    "# xx , yy = np.meshgrid(x,y)\n",
    "\n",
    "# print(x)\n",
    "# print(xx)"
   ]
  },
  {
   "cell_type": "code",
   "execution_count": 39,
   "metadata": {},
   "outputs": [],
   "source": [
    "# f = np.linspace(-5,5,N)\n",
    "\n",
    "# result = np.zeros((len(f),len(f)),dtype=complex)"
   ]
  },
  {
   "cell_type": "code",
   "execution_count": 111,
   "metadata": {},
   "outputs": [],
   "source": [
    "N = int(200/1)\n",
    "\n",
    "t1= np.linspace(-2,2,N)\n",
    "t2 = t1.T\n",
    "\n",
    "x = np.zeros((N,N),dtype = complex)\n",
    "\n",
    "x,y = np.meshgrid(t1,t2) \n",
    "\n",
    "def DFT_Matrix(M):\n",
    "    i, j = np.meshgrid(np.arange(M), np.arange(M))\n",
    "    omega = np.exp( - 2 * np.pi * 1J / M )\n",
    "    W = np.power( omega, i * j ) / np.sqrt(M)\n",
    "    return W\n",
    "\n",
    "\n",
    "def rect(x):\n",
    "    return ((abs(x) < .1).astype(float))\n",
    "\n",
    "W=DFT_Matrix(N)\n",
    "x_of_dft = W.dot(rect(x)).dot(W)"
   ]
  },
  {
   "cell_type": "code",
   "execution_count": 114,
   "metadata": {},
   "outputs": [
    {
     "name": "stdout",
     "output_type": "stream",
     "text": [
      "[[  0   0   0 ...   0   0   0]\n",
      " [  1   1   1 ...   1   1   1]\n",
      " [  2   2   2 ...   2   2   2]\n",
      " ...\n",
      " [197 197 197 ... 197 197 197]\n",
      " [198 198 198 ... 198 198 198]\n",
      " [199 199 199 ... 199 199 199]]\n"
     ]
    }
   ],
   "source": [
    "i,j = np.meshgrid(np.arange(N), np.arange(N))\n",
    "print(j)"
   ]
  },
  {
   "cell_type": "code",
   "execution_count": 98,
   "metadata": {},
   "outputs": [
    {
     "data": {
      "text/plain": [
       "<matplotlib.colorbar.Colorbar at 0x7fbb7a805b70>"
      ]
     },
     "execution_count": 98,
     "metadata": {},
     "output_type": "execute_result"
    },
    {
     "data": {
      "image/png": "[encoded data removed]",
      "text/plain": [
       "<matplotlib.figure.Figure at 0x7fbb786a3fd0>"
      ]
     },
     "metadata": {
      "needs_background": "light"
     },
     "output_type": "display_data"
    }
   ],
   "source": [
    "fig = plt.figure()\n",
    "plt.pcolor(np.abs(x_of_dft))\n",
    "plt.ylim(0,1)\n",
    "plt.colorbar()"
   ]
  },
  {
   "cell_type": "code",
   "execution_count": 101,
   "metadata": {},
   "outputs": [
    {
     "data": {
      "text/plain": [
       "<matplotlib.colorbar.Colorbar at 0x7fbb7454da90>"
      ]
     },
     "execution_count": 101,
     "metadata": {},
     "output_type": "execute_result"
    },
    {
     "data": {
      "image/png": "[encoded data removed]",
      "text/plain": [
       "<matplotlib.figure.Figure at 0x7fbb6f7ed208>"
      ]
     },
     "metadata": {
      "needs_background": "light"
     },
     "output_type": "display_data"
    },
    {
     "data": {
      "image/png": "[encoded data removed]",
      "text/plain": [
       "<matplotlib.figure.Figure at 0x7fbb6f7feda0>"
      ]
     },
     "metadata": {
      "needs_background": "light"
     },
     "output_type": "display_data"
    }
   ],
   "source": [
    "fig = plt.figure()\n",
    "plt.pcolor(rect(x))\n",
    "plt.colorbar\n",
    "\n",
    "x_fft = np.fft.ifftshift(np.fft.fft2(np.fft.fftshift(rect(x))))\n",
    "# x_fft = np.fft.fft2(rect(x))\n",
    "\n",
    "fig = plt.figure()\n",
    "plt.pcolor(np.abs(x_fft))\n",
    "# plt.ylim(0,1)\n",
    "plt.colorbar()"
   ]
  },
  {
   "cell_type": "code",
   "execution_count": 108,
   "metadata": {},
   "outputs": [
    {
     "name": "stdout",
     "output_type": "stream",
     "text": [
      "[[17 19]\n",
      " [19 17]]\n",
      "[[17 19]\n",
      " [19 17]]\n"
     ]
    }
   ],
   "source": [
    "\n",
    "\n",
    "A = np.array([[1,2],[2,1]])\n",
    "B = np.array([[1,3],[3,1]])\n",
    "\n",
    "AB = A.dot(B).dot(A)\n",
    "print(AB)\n",
    "print(np.dot(A,B).dot(A))"
   ]
  },
  {
   "cell_type": "code",
   "execution_count": null,
   "metadata": {},
   "outputs": [],
   "source": []
  }
 ],
 "metadata": {
  "kernelspec": {
   "display_name": "Python 3",
   "language": "python",
   "name": "python3"
  },
  "language_info": {
   "codemirror_mode": {
    "name": "ipython",
    "version": 3
   },
   "file_extension": ".py",
   "mimetype": "text/x-python",
   "name": "python",
   "nbconvert_exporter": "python",
   "pygments_lexer": "ipython3",
   "version": "3.6.9"
  }
 },
 "nbformat": 4,
 "nbformat_minor": 4
}
