{
 "cells": [
  {
   "cell_type": "code",
   "execution_count": 1,
   "metadata": {},
   "outputs": [],
   "source": [
    "%matplotlib inline"
   ]
  },
  {
   "cell_type": "code",
   "execution_count": 2,
   "metadata": {},
   "outputs": [],
   "source": [
    "from scipy.integrate import odeint,quad,dblquad,simps,quad_vec,nquad"
   ]
  },
  {
   "cell_type": "code",
   "execution_count": 3,
   "metadata": {},
   "outputs": [],
   "source": [
    "import numpy as np\n",
    "import pylab as py\n",
    "import matplotlib.pyplot as plt\n",
    "import math\n",
    "import threading\n",
    "import scipy\n",
    "\n",
    "\n",
    "from scipy import constants\n",
    "from scipy import interpolate\n",
    "from scipy import signal\n",
    "from scipy import ndimage"
   ]
  },
  {
   "cell_type": "markdown",
   "metadata": {},
   "source": [
    "# TESTING WITH 1D-ARRAY "
   ]
  },
  {
   "cell_type": "code",
   "execution_count": 7,
   "metadata": {},
   "outputs": [],
   "source": [
    "# x = np.array([1,2,3,4,5,6],dtype=complex)\n",
    "# y = np.array([1,2,3,4,5,6], dtype=complex)\n",
    "N=8\n",
    "x = np.linspace(-N/2,N/2-1,N)\n",
    "y = x.T\n",
    "\n",
    "\n",
    "xx,yy = np.meshgrid(x,y)\n",
    "func = np.exp(-1j*(xx**2 + yy**2))\n",
    "xx_fft2 = np.fft.fft2(xx)\n",
    "\n",
    "xx_fft2_all = np.fft.ifftshift(np.fft.fft2(np.fft.fftshift(xx)))\n",
    "\n",
    "\n",
    "# print(xx)\n",
    "# print('')\n",
    "# print(yy)\n",
    "# print('')\n",
    "# print(xx_fft2)\n",
    "# print('')\n",
    "# print(xx_fft2_all)"
   ]
  },
  {
   "cell_type": "code",
   "execution_count": 22,
   "metadata": {},
   "outputs": [
    {
     "data": {
      "text/plain": [
       "True"
      ]
     },
     "execution_count": 22,
     "metadata": {},
     "output_type": "execute_result"
    }
   ],
   "source": [
    "x_shift = np.fft.fftshift(x)\n",
    "xx_shift = np.fft.fftshift(xx)\n",
    "yy_shift = np.fft.fftshift(yy)\n",
    "func_fftshift = np.fft.fftshift(func)\n",
    "np.allclose(func_fftshift, np.exp(-1j*(xx_shift**2 + yy_shift**2)))"
   ]
  },
  {
   "cell_type": "code",
   "execution_count": 38,
   "metadata": {},
   "outputs": [],
   "source": [
    "\n",
    "f_x = np.zeros(Ns,dtype = complex)\n",
    "\n",
    "for s in range(Ns):\n",
    "    g_even = 0.0\n",
    "    g_odd = 0.0     \n",
    "    for t in range(Ns//2):\n",
    "        w_even = np.exp(-2j*np.pi*(2*t*s/Ns))\n",
    "        g_even += x_shift[2*t]*w_even\n",
    "                \n",
    "        w_odd = np.exp(-2j*np.pi*((2*t+1)*s/Ns))\n",
    "        g_odd += x_shift[2*t+1]*w_odd\n",
    "        \n",
    "        f_x[s] = g_even + g_odd\n",
    "#         f_x[s+Ns//2] = g_even - g_odd"
   ]
  },
  {
   "cell_type": "code",
   "execution_count": 39,
   "metadata": {},
   "outputs": [
    {
     "data": {
      "text/plain": [
       "True"
      ]
     },
     "execution_count": 39,
     "metadata": {},
     "output_type": "execute_result"
    }
   ],
   "source": [
    "np.allclose(f_x, np.fft.fft(np.fft.fftshift(x)))"
   ]
  },
  {
   "cell_type": "code",
   "execution_count": 40,
   "metadata": {},
   "outputs": [
    {
     "name": "stdout",
     "output_type": "stream",
     "text": [
      "0\n",
      "1\n",
      "2\n",
      "3\n",
      "4\n",
      "5\n",
      "6\n",
      "7\n"
     ]
    }
   ],
   "source": [
    "\n",
    "Ns = len(x)\n",
    "g = np.zeros((Ns,Ns),dtype = complex)\n",
    "xx_fft = np.zeros((Ns,Ns),dtype = complex)\n",
    "\n",
    "\n",
    "\n",
    "for x1 in range(Ns):\n",
    "    for x2 in range(Ns):\n",
    "        f_even = 0.0\n",
    "        f_even1 = 0.0\n",
    "        f_odd = 0.0\n",
    "        f_odd1 = 0.0\n",
    "        for s in range(Ns//2):\n",
    "            g_even = 0.0\n",
    "            g_odd = 0.0            \n",
    "            g_even1 = 0.0\n",
    "            g_odd1 = 0.0\n",
    "            for t in range(Ns//2):\n",
    "                w_even = np.exp(-2j*np.pi*(2*t*x2/Ns))\n",
    "                g_even += xx_shift[s,2*t]*w_even\n",
    "                g_even1 += xx_shift[s+Ns//2,2*t]*w_even\n",
    "                \n",
    "                w_odd = np.exp(-2j*np.pi*((2*t+1)*x2/Ns))\n",
    "                g_odd += xx_shift[s,2*t+1]*w_odd\n",
    "                g_odd1 += xx_shift[s+Ns//2,2*t+1]*w_odd\n",
    "            \n",
    "            g[s,x2] = g_even + g_odd\n",
    "            \n",
    "            g[s+Ns//2,x2] = g_even1+g_odd1\n",
    "            \n",
    "            f_even += g[s,x2]*np.exp(-2j*np.pi*(s*x1/Ns))\n",
    "            \n",
    "            f_even1 += g[s+Ns//2,x2]*np.exp(-2j*np.pi*((s+Ns//2)*x1/Ns))\n",
    "            \n",
    "        xx_fft[x1,x2] = f_even+f_even1\n",
    "        \n",
    "    print(x1)"
   ]
  },
  {
   "cell_type": "code",
   "execution_count": 37,
   "metadata": {},
   "outputs": [
    {
     "data": {
      "text/plain": [
       "True"
      ]
     },
     "execution_count": 37,
     "metadata": {},
     "output_type": "execute_result"
    }
   ],
   "source": [
    "np.allclose(xx_fft,xx_fft2)"
   ]
  },
  {
   "cell_type": "code",
   "execution_count": 12,
   "metadata": {},
   "outputs": [
    {
     "name": "stdout",
     "output_type": "stream",
     "text": [
      "0\n",
      "1\n",
      "2\n",
      "3\n",
      "4\n",
      "5\n",
      "6\n",
      "7\n"
     ]
    }
   ],
   "source": [
    "\n",
    "Ns = len(x)\n",
    "g = np.zeros((Ns,Ns),dtype = complex)\n",
    "xx_fft = np.zeros((Ns,Ns),dtype = complex)\n",
    "\n",
    "\n",
    "\n",
    "for x1 in range(Ns):\n",
    "    for x2 in range(Ns):\n",
    "        f_even = 0.0\n",
    "        f_even1 = 0.0\n",
    "        f_odd = 0.0\n",
    "        f_odd1 = 0.0\n",
    "        for s in range(Ns//8):\n",
    "            g_even = 0.0\n",
    "            g_odd = 0.0            \n",
    "            g_even1 = 0.0\n",
    "            g_odd1 = 0.0\n",
    "            for t in range(Ns//8):\n",
    "                \n",
    "                w_1 = np.exp(-2j*np.pi*(8*t*x2/Ns))\n",
    "                w_2 = np.exp(-2j*np.pi*((8*t+1)*x2/Ns))\n",
    "                w_3 = np.exp(-2j*np.pi*((8*t+2)*x2/Ns))\n",
    "                w_4 = np.exp(-2j*np.pi*((8*t+3)*x2/Ns))\n",
    "                w_5 = np.exp(-2j*np.pi*((8*t+4)*x2/Ns))\n",
    "                w_6 = np.exp(-2j*np.pi*((8*t+5)*x2/Ns))\n",
    "                w_7 = np.exp(-2j*np.pi*((8*t+6)*x2/Ns))\n",
    "                w_8 = np.exp(-2j*np.pi*((8*t+7)*x2/Ns))\n",
    "                \n",
    "                g_even += (xx_shift[:,8*t]*w_1 + xx_shift[:,8*t+1]*w_2 + \n",
    "                           xx_shift[:,8*t+2]*w_3 + xx_shift[:,8*t+3]*w_4 +\n",
    "                           xx_shift[:,8*t+4]*w_5 + xx_shift[:,8*t+5]*w_6 + \n",
    "                           xx_shift[:,8*t+6]*w_7 + xx_shift[:,8*t+7]*w_8)\n",
    "            \n",
    "            g[:,x2] = g_even\n",
    "            \n",
    "            \n",
    "            f_even += (g[8*s,x2]*np.exp(-2j*np.pi*(8*s*x1/Ns))\n",
    "                       +g[8*s+1,x2]*np.exp(-2j*np.pi*((8*s+1)*x1/Ns))\n",
    "                       +g[8*s+2,x2]*np.exp(-2j*np.pi*((8*s+2)*x1/Ns))\n",
    "                       +g[8*s+3,x2]*np.exp(-2j*np.pi*((8*s+3)*x1/Ns))\n",
    "                       +g[8*s+4,x2]*np.exp(-2j*np.pi*((8*s+4)*x1/Ns))\n",
    "                       +g[8*s+5,x2]*np.exp(-2j*np.pi*((8*s+5)*x1/Ns))\n",
    "                       +g[8*s+6,x2]*np.exp(-2j*np.pi*((8*s+6)*x1/Ns))\n",
    "                       +g[8*s+7,x2]*np.exp(-2j*np.pi*((8*s+7)*x1/Ns)))\n",
    "            \n",
    "        xx_fft[x1,x2] = f_even\n",
    "    print(x1)"
   ]
  },
  {
   "cell_type": "code",
   "execution_count": 13,
   "metadata": {},
   "outputs": [
    {
     "data": {
      "text/plain": [
       "False"
      ]
     },
     "execution_count": 13,
     "metadata": {},
     "output_type": "execute_result"
    }
   ],
   "source": [
    "np.allclose(xx_fft,xx_fft2)"
   ]
  },
  {
   "cell_type": "code",
   "execution_count": 14,
   "metadata": {},
   "outputs": [
    {
     "data": {
      "text/plain": [
       "True"
      ]
     },
     "execution_count": 14,
     "metadata": {},
     "output_type": "execute_result"
    }
   ],
   "source": [
    "np.allclose(np.fft.ifftshift(xx_fft),xx_fft2_all)"
   ]
  },
  {
   "cell_type": "code",
   "execution_count": null,
   "metadata": {},
   "outputs": [],
   "source": []
  },
  {
   "cell_type": "code",
   "execution_count": null,
   "metadata": {},
   "outputs": [],
   "source": []
  },
  {
   "cell_type": "code",
   "execution_count": 59,
   "metadata": {},
   "outputs": [
    {
     "name": "stdout",
     "output_type": "stream",
     "text": [
      "0\n",
      "1\n",
      "2\n",
      "3\n",
      "4\n",
      "5\n",
      "6\n",
      "7\n",
      "[36.+0.00000000e+00j  4.-9.65685425e+00j -4.+4.00000000e+00j\n",
      "  4.-1.65685425e+00j -4.-3.91886976e-15j  4.+1.65685425e+00j\n",
      " -4.-4.00000000e+00j  4.+9.65685425e+00j]\n",
      "[-4.-3.91886976e-15j  4.+1.65685425e+00j -4.-4.00000000e+00j\n",
      "  4.+9.65685425e+00j 36.+0.00000000e+00j  4.-9.65685425e+00j\n",
      " -4.+4.00000000e+00j  4.-1.65685425e+00j]\n"
     ]
    }
   ],
   "source": [
    "Ns = len(arr)\n",
    "fft_arr = np.zeros(Ns,dtype = complex)\n",
    "arr_shift = np.fft.fftshift(arr)\n",
    "\n",
    "for k in range(Ns):\n",
    "    fft_sum_even = 0.0\n",
    "    fft_sum_odd = 0.0\n",
    "    for n in range(Ns//2):\n",
    "        w_even = np.exp(-1j*2.*np.pi*float(k*2*n)/Ns)\n",
    "        arr_x_even = arr_shift[2*n]\n",
    "        fft_sum_even += arr_x_even*w_even\n",
    "        \n",
    "        w_odd = np.exp(-1j*2*np.pi*float(k*(2*n+1))/Ns)\n",
    "        arr_x_odd = arr_shift[2*n+1]\n",
    "        fft_sum_odd += arr_x_odd*w_odd\n",
    "        \n",
    "    fft_arr[k] = fft_sum_even + fft_sum_odd\n",
    "    print(k)\n",
    "    \n",
    "    \n",
    "print(fft_arr)\n",
    "fft_arr_ishift = np.fft.ifftshift(fft_arr)\n",
    "print(fft_arr_ishift)\n",
    "# print(arr_shift)"
   ]
  }
 ],
 "metadata": {
  "kernelspec": {
   "display_name": "Python 3",
   "language": "python",
   "name": "python3"
  },
  "language_info": {
   "codemirror_mode": {
    "name": "ipython",
    "version": 3
   },
   "file_extension": ".py",
   "mimetype": "text/x-python",
   "name": "python",
   "nbconvert_exporter": "python",
   "pygments_lexer": "ipython3",
   "version": "3.6.9"
  }
 },
 "nbformat": 4,
 "nbformat_minor": 4
}
