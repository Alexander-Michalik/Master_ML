{
 "cells": [
  {
   "cell_type": "code",
   "execution_count": 191,
   "metadata": {},
   "outputs": [],
   "source": [
    "%matplotlib inline"
   ]
  },
  {
   "cell_type": "code",
   "execution_count": 192,
   "metadata": {},
   "outputs": [],
   "source": [
    "from scipy.integrate import odeint,quad,dblquad,simps,quad_vec,nquad"
   ]
  },
  {
   "cell_type": "code",
   "execution_count": 193,
   "metadata": {},
   "outputs": [],
   "source": [
    "import numpy as np\n",
    "import pylab as py\n",
    "import matplotlib.pyplot as plt\n",
    "import math\n",
    "import threading\n",
    "import scipy\n",
    "\n",
    "\n",
    "from scipy import constants\n",
    "from scipy import interpolate\n",
    "from scipy import signal\n",
    "from scipy import ndimage"
   ]
  },
  {
   "cell_type": "markdown",
   "metadata": {},
   "source": [
    "# TESTING WITH 1D-ARRAY "
   ]
  },
  {
   "cell_type": "code",
   "execution_count": 194,
   "metadata": {},
   "outputs": [
    {
     "name": "stdout",
     "output_type": "stream",
     "text": [
      "[[1.+0.j 2.+0.j 3.+0.j 4.+0.j 5.+0.j 6.+0.j]\n",
      " [1.+0.j 2.+0.j 3.+0.j 4.+0.j 5.+0.j 6.+0.j]\n",
      " [1.+0.j 2.+0.j 3.+0.j 4.+0.j 5.+0.j 6.+0.j]\n",
      " [1.+0.j 2.+0.j 3.+0.j 4.+0.j 5.+0.j 6.+0.j]\n",
      " [1.+0.j 2.+0.j 3.+0.j 4.+0.j 5.+0.j 6.+0.j]\n",
      " [1.+0.j 2.+0.j 3.+0.j 4.+0.j 5.+0.j 6.+0.j]]\n",
      "\n",
      "[[1.+0.j 1.+0.j 1.+0.j 1.+0.j 1.+0.j 1.+0.j]\n",
      " [2.+0.j 2.+0.j 2.+0.j 2.+0.j 2.+0.j 2.+0.j]\n",
      " [3.+0.j 3.+0.j 3.+0.j 3.+0.j 3.+0.j 3.+0.j]\n",
      " [4.+0.j 4.+0.j 4.+0.j 4.+0.j 4.+0.j 4.+0.j]\n",
      " [5.+0.j 5.+0.j 5.+0.j 5.+0.j 5.+0.j 5.+0.j]\n",
      " [6.+0.j 6.+0.j 6.+0.j 6.+0.j 6.+0.j 6.+0.j]]\n",
      "\n",
      "[[126.+0.00000000e+00j -18.+3.11769145e+01j -18.+1.03923048e+01j\n",
      "  -18.-2.66453526e-15j -18.-1.03923048e+01j -18.-3.11769145e+01j]\n",
      " [  0.+0.00000000e+00j   0.+0.00000000e+00j   0.+0.00000000e+00j\n",
      "    0.+0.00000000e+00j   0.+0.00000000e+00j   0.+0.00000000e+00j]\n",
      " [  0.+0.00000000e+00j   0.+0.00000000e+00j   0.+0.00000000e+00j\n",
      "    0.+0.00000000e+00j   0.+0.00000000e+00j   0.+0.00000000e+00j]\n",
      " [  0.+0.00000000e+00j   0.+0.00000000e+00j   0.+0.00000000e+00j\n",
      "    0.+0.00000000e+00j   0.+0.00000000e+00j   0.+0.00000000e+00j]\n",
      " [  0.+0.00000000e+00j   0.+0.00000000e+00j   0.+0.00000000e+00j\n",
      "    0.+0.00000000e+00j   0.+0.00000000e+00j   0.+0.00000000e+00j]\n",
      " [  0.+0.00000000e+00j   0.+0.00000000e+00j   0.+0.00000000e+00j\n",
      "    0.+0.00000000e+00j   0.+0.00000000e+00j   0.+0.00000000e+00j]]\n",
      "\n",
      "[[  0.+0.00000000e+00j   0.+0.00000000e+00j   0.+0.00000000e+00j\n",
      "    0.+0.00000000e+00j   0.+0.00000000e+00j   0.+0.00000000e+00j]\n",
      " [  0.+0.00000000e+00j   0.+0.00000000e+00j   0.+0.00000000e+00j\n",
      "    0.+0.00000000e+00j   0.+0.00000000e+00j   0.+0.00000000e+00j]\n",
      " [  0.+0.00000000e+00j   0.+0.00000000e+00j   0.+0.00000000e+00j\n",
      "    0.+0.00000000e+00j   0.+0.00000000e+00j   0.+0.00000000e+00j]\n",
      " [ 18.+2.66453526e-15j -18.-1.03923048e+01j  18.+3.11769145e+01j\n",
      "  126.+0.00000000e+00j  18.-3.11769145e+01j -18.+1.03923048e+01j]\n",
      " [  0.+0.00000000e+00j   0.+0.00000000e+00j   0.+0.00000000e+00j\n",
      "    0.+0.00000000e+00j   0.+0.00000000e+00j   0.+0.00000000e+00j]\n",
      " [  0.+0.00000000e+00j   0.+0.00000000e+00j   0.+0.00000000e+00j\n",
      "    0.+0.00000000e+00j   0.+0.00000000e+00j   0.+0.00000000e+00j]]\n"
     ]
    }
   ],
   "source": [
    "x = np.array([1,2,3,4,5,6],dtype=complex)\n",
    "y = np.array([1,2,3,4,5,6], dtype=complex)\n",
    "xx,yy = np.meshgrid(x,y)\n",
    "func = np.exp(-1j*(xx**2 + yy**2))\n",
    "xx_fft2 = np.fft.fft2(xx)\n",
    "\n",
    "xx_fft2_all = np.fft.ifftshift(np.fft.fft2(np.fft.fftshift(xx)))\n",
    "\n",
    "\n",
    "print(xx)\n",
    "print('')\n",
    "print(yy)\n",
    "print('')\n",
    "print(xx_fft2)\n",
    "print('')\n",
    "print(xx_fft2_all)"
   ]
  },
  {
   "cell_type": "code",
   "execution_count": 195,
   "metadata": {},
   "outputs": [
    {
     "data": {
      "text/plain": [
       "True"
      ]
     },
     "execution_count": 195,
     "metadata": {},
     "output_type": "execute_result"
    }
   ],
   "source": [
    "xx_shift = np.fft.fftshift(xx)\n",
    "yy_shift = np.fft.fftshift(yy)\n",
    "func_fftshift = np.fft.fftshift(func)\n",
    "np.allclose(func_fftshift, np.exp(-1j*(xx_shift**2 + yy_shift**2)))"
   ]
  },
  {
   "cell_type": "code",
   "execution_count": 180,
   "metadata": {},
   "outputs": [],
   "source": [
    "\n",
    "Ns = len(x)\n",
    "g = np.zeros((Ns,Ns),dtype = complex)\n",
    "xx_fft = np.zeros((Ns,Ns),dtype = complex)\n",
    "\n",
    "\n",
    "\n",
    "for x1 in range(Ns):\n",
    "    for x2 in range(Ns):\n",
    "        fft_sum1 = 0.0\n",
    "        fft_sum2 = 0.0\n",
    "        for s in range(Ns//2):\n",
    "            g_even = 0.0\n",
    "            g_odd = 0.0            \n",
    "            g_even1 = 0.0\n",
    "            g_odd1 = 0.0\n",
    "            for t in range(Ns//2):\n",
    "                w_even = np.exp(-2j*np.pi*(2*t*x2/Ns))\n",
    "                g_even += xx_shift[s,2*t]*w_even\n",
    "                \n",
    "                w_even1 = np.exp(-2j*np.pi*(2*t*x2/Ns))\n",
    "                g_even1 += xx_shift[s+Ns//2,2*t]*w_even1\n",
    "                \n",
    "                w_odd = np.exp(-2j*np.pi*((2*t+1)*x2/Ns))\n",
    "                g_odd += xx_shift[s,2*t+1]*w_odd\n",
    "                \n",
    "                w_odd1 = np.exp(-2j*np.pi*((2*t+1)*x2/Ns))\n",
    "                g_odd1 += xx_shift[s+Ns//2,2*t+1]*w_odd1\n",
    "            \n",
    "            g[s,x2] = g_even + g_odd\n",
    "            \n",
    "            g[s+Ns//2,x2] = g_even1+g_odd1\n",
    "            \n",
    "            fft_sum1 += g[s,x2]*np.exp(-2j*np.pi*(s*x1/Ns))\n",
    "            fft_sum2 += g[s+Ns//2,x2]*np.exp(-2j*np.pi*((s+Ns//2)*x1/Ns))\n",
    "            \n",
    "        xx_fft[x1,x2] = fft_sum1+fft_sum2\n",
    "        "
   ]
  },
  {
   "cell_type": "code",
   "execution_count": null,
   "metadata": {},
   "outputs": [],
   "source": []
  },
  {
   "cell_type": "code",
   "execution_count": 199,
   "metadata": {},
   "outputs": [],
   "source": [
    "\n",
    "Ns = len(x)\n",
    "g = np.zeros((Ns,Ns),dtype = complex)\n",
    "xx_fft = np.zeros((Ns,Ns),dtype = complex)\n",
    "\n",
    "\n",
    "\n",
    "for x1 in range(Ns):\n",
    "    for x2 in range(Ns):\n",
    "        f_even = 0.0\n",
    "        f_odd = 0.0\n",
    "        for n in range(Ns//2):\n",
    "            for s in range(Ns):\n",
    "                g_even = 0.0\n",
    "                g_odd = 0.0  \n",
    "                for t in range(Ns//2):\n",
    "                    w_even = np.exp(-2j*np.pi*(2*t*x2/Ns))\n",
    "                    g_even += xx_shift[s,2*t]*w_even\n",
    "\n",
    "                    w_odd = np.exp(-2j*np.pi*((2*t+1)*x2/Ns))\n",
    "                    g_odd += xx_shift[s,2*t+1]*w_odd\n",
    "\n",
    "                g[s,x2] = g_even + g_odd\n",
    "            \n",
    "            wf_even = np.exp(-2j*np.pi*(2*n*x1/Ns))\n",
    "            f_even += g[2*n,x2]*wf_even\n",
    "            \n",
    "            wf_odd = np.exp(-2j*np.pi*((2*n+1)*x1/Ns))\n",
    "            f_odd += g[2*n+1,x2]*wf_odd\n",
    "            \n",
    "        xx_fft[x1,x2] = f_even + f_odd\n",
    "        "
   ]
  },
  {
   "cell_type": "code",
   "execution_count": 200,
   "metadata": {},
   "outputs": [
    {
     "data": {
      "text/plain": [
       "False"
      ]
     },
     "execution_count": 200,
     "metadata": {},
     "output_type": "execute_result"
    }
   ],
   "source": [
    "np.allclose(xx_fft,xx_fft2)"
   ]
  },
  {
   "cell_type": "code",
   "execution_count": 201,
   "metadata": {},
   "outputs": [
    {
     "data": {
      "text/plain": [
       "True"
      ]
     },
     "execution_count": 201,
     "metadata": {},
     "output_type": "execute_result"
    }
   ],
   "source": [
    "np.allclose(np.fft.ifftshift(xx_fft),xx_fft2_all)"
   ]
  },
  {
   "cell_type": "code",
   "execution_count": null,
   "metadata": {},
   "outputs": [],
   "source": []
  },
  {
   "cell_type": "code",
   "execution_count": 59,
   "metadata": {},
   "outputs": [
    {
     "name": "stdout",
     "output_type": "stream",
     "text": [
      "0\n",
      "1\n",
      "2\n",
      "3\n",
      "4\n",
      "5\n",
      "6\n",
      "7\n",
      "[36.+0.00000000e+00j  4.-9.65685425e+00j -4.+4.00000000e+00j\n",
      "  4.-1.65685425e+00j -4.-3.91886976e-15j  4.+1.65685425e+00j\n",
      " -4.-4.00000000e+00j  4.+9.65685425e+00j]\n",
      "[-4.-3.91886976e-15j  4.+1.65685425e+00j -4.-4.00000000e+00j\n",
      "  4.+9.65685425e+00j 36.+0.00000000e+00j  4.-9.65685425e+00j\n",
      " -4.+4.00000000e+00j  4.-1.65685425e+00j]\n"
     ]
    }
   ],
   "source": [
    "Ns = len(arr)\n",
    "fft_arr = np.zeros(Ns,dtype = complex)\n",
    "arr_shift = np.fft.fftshift(arr)\n",
    "\n",
    "for k in range(Ns):\n",
    "    fft_sum_even = 0.0\n",
    "    fft_sum_odd = 0.0\n",
    "    for n in range(Ns//2):\n",
    "        w_even = np.exp(-1j*2.*np.pi*float(k*2*n)/Ns)\n",
    "        arr_x_even = arr_shift[2*n]\n",
    "        fft_sum_even += arr_x_even*w_even\n",
    "        \n",
    "        w_odd = np.exp(-1j*2*np.pi*float(k*(2*n+1))/Ns)\n",
    "        arr_x_odd = arr_shift[2*n+1]\n",
    "        fft_sum_odd += arr_x_odd*w_odd\n",
    "        \n",
    "    fft_arr[k] = fft_sum_even + fft_sum_odd\n",
    "    print(k)\n",
    "    \n",
    "    \n",
    "print(fft_arr)\n",
    "fft_arr_ishift = np.fft.ifftshift(fft_arr)\n",
    "print(fft_arr_ishift)\n",
    "# print(arr_shift)"
   ]
  }
 ],
 "metadata": {
  "kernelspec": {
   "display_name": "Python 3",
   "language": "python",
   "name": "python3"
  },
  "language_info": {
   "codemirror_mode": {
    "name": "ipython",
    "version": 3
   },
   "file_extension": ".py",
   "mimetype": "text/x-python",
   "name": "python",
   "nbconvert_exporter": "python",
   "pygments_lexer": "ipython3",
   "version": "3.6.9"
  }
 },
 "nbformat": 4,
 "nbformat_minor": 4
}
